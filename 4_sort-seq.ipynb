{
 "cells": [
  {
   "cell_type": "markdown",
   "metadata": {},
   "source": [
    "## Import modules"
   ]
  },
  {
   "cell_type": "code",
   "execution_count": 1,
   "metadata": {},
   "outputs": [
    {
     "name": "stderr",
     "output_type": "stream",
     "text": [
      "C:\\ProgramData\\Anaconda3\\lib\\site-packages\\tqdm\\std.py:648: FutureWarning: The Panel class is removed from pandas. Accessing it from the top-level namespace will also be removed in the next version\n",
      "  from pandas import Panel\n"
     ]
    }
   ],
   "source": [
    "from common_dirs_fns import *\n",
    "from sort_seq_functions import *\n",
    "import pandas as pd\n",
    "import numpy as np\n",
    "import matplotlib.pyplot as plt\n",
    "import matplotlib as mpl\n",
    "from collections import Counter"
   ]
  },
  {
   "cell_type": "code",
   "execution_count": 2,
   "metadata": {},
   "outputs": [],
   "source": [
    "# Specify matplotlib formatting\n",
    "%matplotlib inline\n",
    "mpl.rcParams['svg.fonttype']='none'\n",
    "mpl.rcParams['font.sans-serif'] = 'Arial'\n",
    "mpl.rcParams['axes.linewidth'] = 1.\n",
    "mpl.rcParams['mathtext.default'] = 'regular'\n",
    "plt.rcParams.update({'font.size': 7})"
   ]
  },
  {
   "cell_type": "markdown",
   "metadata": {},
   "source": [
    "## Import and process peptide count dataframe"
   ]
  },
  {
   "cell_type": "code",
   "execution_count": 3,
   "metadata": {},
   "outputs": [],
   "source": [
    "# Import tln_count_df, which was generated in NGS_data\n",
    "tln_count_df = pd.read_csv(analysis_path+'tln_count_df.csv',index_col=[0,1],header=[0,1],na_filter=False)"
   ]
  },
  {
   "cell_type": "code",
   "execution_count": 4,
   "metadata": {},
   "outputs": [],
   "source": [
    "# Process tln_count_df\n",
    "tln_count_df_processed = process_tln_count_df(tln_count_df)\n",
    "tln_count_df_processed.to_csv(analysis_path+'tln_count_df_processed.csv')"
   ]
  },
  {
   "cell_type": "markdown",
   "metadata": {},
   "source": [
    "## Fit lognormal distributions to read data"
   ]
  },
  {
   "cell_type": "code",
   "execution_count": 5,
   "metadata": {},
   "outputs": [
    {
     "data": {
      "application/vnd.jupyter.widget-view+json": {
       "model_id": "a7c8e393f4654a73bbc732a185aad328",
       "version_major": 2,
       "version_minor": 0
      },
      "text/plain": [
       "HBox(children=(IntProgress(value=0, max=13643), HTML(value='')))"
      ]
     },
     "metadata": {},
     "output_type": "display_data"
    },
    {
     "name": "stderr",
     "output_type": "stream",
     "text": [
      "C:\\Users\\Kathryn\\Documents\\GitHub\\PhoPQ_hAMP_sort-seq\\sort_seq_functions.py:41: RuntimeWarning: divide by zero encountered in log\n",
      "  return -1.*sum((r)*np.log(lognorm_cdf(upper, mu, sigma)-lognorm_cdf(lower, mu, sigma)))\n",
      "C:\\Users\\Kathryn\\Documents\\GitHub\\PhoPQ_hAMP_sort-seq\\sort_seq_functions.py:41: RuntimeWarning: invalid value encountered in double_scalars\n",
      "  return -1.*sum((r)*np.log(lognorm_cdf(upper, mu, sigma)-lognorm_cdf(lower, mu, sigma)))\n",
      "C:\\Users\\Kathryn\\Documents\\GitHub\\PhoPQ_hAMP_sort-seq\\sort_seq_functions.py:41: RuntimeWarning: invalid value encountered in multiply\n",
      "  return -1.*sum((r)*np.log(lognorm_cdf(upper, mu, sigma)-lognorm_cdf(lower, mu, sigma)))\n",
      "C:\\Users\\Kathryn\\Documents\\GitHub\\PhoPQ_hAMP_sort-seq\\sort_seq_functions.py:36: RuntimeWarning: divide by zero encountered in true_divide\n",
      "  return 0.5*(1+erf((np.log(x)-mu)/(sigma*np.sqrt(2))))\n",
      "C:\\Users\\Kathryn\\Documents\\GitHub\\PhoPQ_hAMP_sort-seq\\sort_seq_functions.py:41: RuntimeWarning: invalid value encountered in log\n",
      "  return -1.*sum((r)*np.log(lognorm_cdf(upper, mu, sigma)-lognorm_cdf(lower, mu, sigma)))\n",
      "C:\\ProgramData\\Anaconda3\\lib\\site-packages\\scipy\\optimize\\optimize.py:700: RuntimeWarning: invalid value encountered in subtract\n",
      "  np.max(np.abs(fsim[0] - fsim[1:])) <= fatol):\n"
     ]
    },
    {
     "name": "stdout",
     "output_type": "stream",
     "text": [
      "\n"
     ]
    }
   ],
   "source": [
    "# Fit lognormal distributions and calculate statistics for tln_count_df_processed\n",
    "# Only fit peptides with > 10 reads total across all bins (Bins 1-8)\n",
    "minimum_reads = 10\n",
    "stats_table = make_stats_table(tln_count_df_processed[tln_count_df_processed['TotalReads']>minimum_reads],\n",
    "                              analysis_path+'stats_table.csv',\n",
    "                              upper, lower, 'LogNorm')"
   ]
  },
  {
   "cell_type": "markdown",
   "metadata": {},
   "source": [
    "## Analyze fits"
   ]
  },
  {
   "cell_type": "code",
   "execution_count": 6,
   "metadata": {},
   "outputs": [],
   "source": [
    "# Add assigned peptide data to stats_table\n",
    "stats_table['AssignedPeptide'] = tln_count_df_processed.loc[stats_table.index,'AssignedPeptide']"
   ]
  },
  {
   "cell_type": "code",
   "execution_count": 7,
   "metadata": {},
   "outputs": [
    {
     "name": "stdout",
     "output_type": "stream",
     "text": [
      "Number of successful fits:\t\t\t12767\t\t93.58%\n",
      "Number of failed fits:\t\t\t\t876\t\t6.42%\n",
      "*************\n",
      "Number of successful human AMP fits:\t\t117\t\t100.00%\n",
      "Number of failed human AMP fits:\t\t0\t\t0.00%\n"
     ]
    }
   ],
   "source": [
    "# Print success rate among all peptides\n",
    "success_counter = Counter(stats_table.loc[:,'Success'])\n",
    "\n",
    "print('\\t\\t'.join(['Number of successful fits:\\t',\n",
    "      str(success_counter[True]),\n",
    "      '{:.2%}'.format(success_counter[True]/len(stats_table))]))\n",
    "\n",
    "print('\\t\\t'.join(['Number of failed fits:\\t\\t',\n",
    "      str(success_counter[False]),\n",
    "      '{:.2%}'.format(success_counter[False]/len(stats_table))]))\n",
    "\n",
    "print('*************')\n",
    "\n",
    "# Print success rate for human AMPs in library\n",
    "hAMP_success_counter = Counter(stats_table.loc[~stats_table['AssignedPeptide'].isin(['','*']),'Success'])\n",
    "\n",
    "print('\\t\\t'.join(['Number of successful human AMP fits:',\n",
    "      str(hAMP_success_counter[True]),\n",
    "      '{:.2%}'.format(hAMP_success_counter[True]/len(stats_table.loc[~stats_table['AssignedPeptide'].isin(['','*'])]))]))\n",
    "\n",
    "print('\\t\\t'.join(['Number of failed human AMP fits:',\n",
    "      str(hAMP_success_counter[False]),\n",
    "      '{:.2%}'.format(hAMP_success_counter[False]/len(stats_table.loc[~stats_table['AssignedPeptide'].isin(['','*'])]))]))\n"
   ]
  },
  {
   "cell_type": "markdown",
   "metadata": {},
   "source": [
    "## Plot fluorescence and fold change distributions"
   ]
  },
  {
   "cell_type": "markdown",
   "metadata": {},
   "source": [
    "### Compare initial and final parameter (mu, sigma) values"
   ]
  },
  {
   "cell_type": "markdown",
   "metadata": {},
   "source": [
    "Both \"Simple\" (initial) and \"Lognorm\" (final) assume a lognormal distribution. Simple uses the bin centers in log space to estimate mu and sigma, and then calculates mean using the formula exp(mu + sigma^2/2). Lognorm uses the mu and sigma calculated from Simple as inputs to a minimization function to find a best-fit lognormal distribution for a given peptide.\n",
    "\n",
    "Simple and Lognorm fits correspond very closely. From here forward all data will be analyzed based on Simple because:\n",
    "- Some peptides were not successfully fit using Lognorm (~6%)\n",
    "- Simple is faster computationally, which will be useful for bootstrapping"
   ]
  },
  {
   "cell_type": "code",
   "execution_count": 8,
   "metadata": {},
   "outputs": [
    {
     "data": {
      "image/png": "[encoded data removed]",
      "text/plain": [
       "<Figure size 300x300 with 1 Axes>"
      ]
     },
     "metadata": {
      "needs_background": "light"
     },
     "output_type": "display_data"
    },
    {
     "data": {
      "image/png": "[encoded data removed]",
      "text/plain": [
       "<Figure size 300x300 with 1 Axes>"
      ]
     },
     "metadata": {
      "needs_background": "light"
     },
     "output_type": "display_data"
    },
    {
     "data": {
      "image/png": "[encoded data removed]",
      "text/plain": [
       "<Figure size 300x300 with 1 Axes>"
      ]
     },
     "metadata": {
      "needs_background": "light"
     },
     "output_type": "display_data"
    }
   ],
   "source": [
    "for param in ['Mu','Sigma','Mean']:\n",
    "    fig = plt.figure(figsize=(2,2),dpi=150)\n",
    "    plt.plot(stats_table.loc[stats_table['Success'], param+'_Simple'],\n",
    "                    stats_table.loc[stats_table['Success'], param+'_LogNorm'],\n",
    "                    linestyle='', marker='.', markersize=2, alpha=0.1)\n",
    "    \n",
    "    if param == 'Mean':\n",
    "        plt.xscale('log')\n",
    "        plt.yscale('log')\n",
    "    \n",
    "    axis_min = min(stats_table.loc[stats_table['Success'], param+'_Simple'].min(),\n",
    "                   stats_table.loc[stats_table['Success'], param+'_LogNorm'].min())*0.9\n",
    "    \n",
    "    axis_max = max(stats_table.loc[stats_table['Success'], param+'_Simple'].max(),\n",
    "                   stats_table.loc[stats_table['Success'], param+'_LogNorm'].max())*1.1\n",
    "    \n",
    "    plt.xlim([axis_min,axis_max])\n",
    "    plt.ylim([axis_min,axis_max])\n",
    "    \n",
    "    plt.xlabel(param+'_Simple')\n",
    "    plt.ylabel(param+'_LogNorm')\n",
    "    plt.show()"
   ]
  },
  {
   "cell_type": "markdown",
   "metadata": {},
   "source": [
    "## Generate plots of histograms for control strains"
   ]
  },
  {
   "cell_type": "code",
   "execution_count": 9,
   "metadata": {},
   "outputs": [],
   "source": [
    "# Import human AMP data scraped from APD3 (Antimicrobial Peptide Database 3)\n",
    "peptide_df = pd.read_excel('human_AMPs.xlsx',index_col=0)"
   ]
  },
  {
   "cell_type": "code",
   "execution_count": 10,
   "metadata": {},
   "outputs": [
    {
     "data": {
      "image/png": "[encoded data removed]",
      "text/plain": [
       "<Figure size 150x450 with 3 Axes>"
      ]
     },
     "metadata": {
      "needs_background": "light"
     },
     "output_type": "display_data"
    }
   ],
   "source": [
    "fig = plt.figure(figsize=(1., 3.), dpi=150)\n",
    "gs = mpl.gridspec.GridSpec(3, 1, hspace=0.)\n",
    "\n",
    "control_peptides = ['*',\n",
    "                    peptide_df.set_index('SimpleName').loc['human neutrophil peptide-1','Sequence'],\n",
    "                    peptide_df.set_index('SimpleName').loc['LL-37','Sequence']\n",
    "                    ]\n",
    "\n",
    "titles = ['No peptide', 'Defensin HNP-1', 'LL-37']\n",
    "\n",
    "scaling = 10**5\n",
    "\n",
    "for i,peptide in enumerate(control_peptides):\n",
    "    ax = fig.add_subplot(gs[i])\n",
    "    \n",
    "    heights = tln_count_df_processed.loc[peptide, (mixed_stats_bins.index,'BinNorm')]*scaling\n",
    "    bw = mixed_stats_bins['BinWidth']\n",
    "    ax.bar(lower, height=heights, width=bw, align='edge', color='#fdd0a2')\n",
    "    \n",
    "    y_ax_max = max(heights)*1.4\n",
    "    ax.set_ylim([0, y_ax_max])\n",
    "    \n",
    "    mean_value = stats_table.loc[peptide,'Mean_Simple']\n",
    "    y_mean_max = heights.iloc[np.argmax(lower>mean_value)-1]\n",
    "    ax.axvline(mean_value,\n",
    "               ymax = y_mean_max/y_ax_max*0.98,\n",
    "               color='C1',\n",
    "               alpha=0.8,\n",
    "               linewidth=1.5)\n",
    "    \n",
    "    plt.xscale('log')\n",
    "    ax_lims = [lower[0]/1.2, upper[-1]*1.2]\n",
    "    ax.set_xlim(ax_lims)\n",
    "    \n",
    "    ax.tick_params(axis='both',direction=\"in\", which='both')\n",
    "    \n",
    "    locmaj = mpl.ticker.LogLocator(base=10., numticks=7)\n",
    "    locmin = mpl.ticker.LogLocator(base=10.0, subs=(0.1, 0.2, 0.3, 0.4, 0.5, 0.6, 0.7, 0.8, 0.9),\n",
    "                                              numticks=7)\n",
    "    ax.xaxis.set_major_locator(locmaj)\n",
    "    ax.xaxis.set_minor_locator(locmin)\n",
    "    \n",
    "    if i < 2:\n",
    "        ax.xaxis.set_ticklabels([])\n",
    "    \n",
    "    if i == 2:\n",
    "        ax.set_xlabel('Fluorescence (a.u.)')\n",
    "    \n",
    "    if i == 1:\n",
    "        ax.set_ylabel('Probability '+r'(x$10^{-5}$)')\n",
    "    \n",
    "    ax.text(0.5, 0.92, titles[i], size=7,\n",
    "            horizontalalignment='center',\n",
    "            verticalalignment='top',\n",
    "            transform=ax.transAxes)\n",
    "    \n",
    "\n",
    "plt.savefig(figures_path+'control_histograms_no_fit.png', bbox_inches='tight', dpi=300)\n",
    "plt.savefig(figures_path+'control_histograms_no_fit.svg', bbox_inches='tight', dpi=300)"
   ]
  },
  {
   "cell_type": "code",
   "execution_count": null,
   "metadata": {},
   "outputs": [],
   "source": []
  }
 ],
 "metadata": {
  "kernelspec": {
   "display_name": "Python 3",
   "language": "python",
   "name": "python3"
  },
  "language_info": {
   "codemirror_mode": {
    "name": "ipython",
    "version": 3
   },
   "file_extension": ".py",
   "mimetype": "text/x-python",
   "name": "python",
   "nbconvert_exporter": "python",
   "pygments_lexer": "ipython3",
   "version": "3.7.4"
  }
 },
 "nbformat": 4,
 "nbformat_minor": 2
}

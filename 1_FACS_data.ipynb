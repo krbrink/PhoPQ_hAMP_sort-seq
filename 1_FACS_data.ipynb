{
 "cells": [
  {
   "cell_type": "markdown",
   "metadata": {},
   "source": [
    "## Import modules"
   ]
  },
  {
   "cell_type": "code",
   "execution_count": 3,
   "metadata": {},
   "outputs": [],
   "source": [
    "from common_dirs_fns import *\n",
    "import FlowCal\n",
    "import pandas as pd\n",
    "import numpy as np\n",
    "import regex\n",
    "import matplotlib.pyplot as plt\n",
    "import matplotlib as mpl"
   ]
  },
  {
   "cell_type": "code",
   "execution_count": 4,
   "metadata": {},
   "outputs": [],
   "source": [
    "# Specify matplotlib formatting\n",
    "%matplotlib inline\n",
    "mpl.rcParams['svg.fonttype']='none'\n",
    "mpl.rcParams['font.sans-serif'] = 'Arial'\n",
    "mpl.rcParams['axes.linewidth'] = 1.\n",
    "mpl.rcParams['mathtext.default'] = 'regular'\n",
    "plt.rcParams.update({'font.size': 7})"
   ]
  },
  {
   "cell_type": "markdown",
   "metadata": {},
   "source": [
    "## Import FACS .fcs files"
   ]
  },
  {
   "cell_type": "code",
   "execution_count": 5,
   "metadata": {},
   "outputs": [],
   "source": [
    "samples = pd.read_excel(facs_path+'FCS_Files/fcs_file_legend.xlsx','Samples')\n",
    "samples['File Path']=facs_path+'FCS_Files/'+samples['File Path']\n",
    "sample_data = {}\n",
    "\n",
    "for i in samples.index:\n",
    "    s = FlowCal.io.FCSData(samples.loc[i,'File Path'])\n",
    "    \n",
    "    '''\n",
    "    Transforming to rfi does not change the fluorescence values from the .fcs files because the FACS gain is None\n",
    "    and FlowCal interprets None as a gain of 1 for FACS machines with linear amplifiers.\n",
    "    '''\n",
    "    s = FlowCal.transform.to_rfi(s)\n",
    "    \n",
    "    sample_data[samples.loc[i,'ID']] = s"
   ]
  },
  {
   "cell_type": "markdown",
   "metadata": {},
   "source": [
    "## Import sort data"
   ]
  },
  {
   "cell_type": "markdown",
   "metadata": {},
   "source": [
    "Bins 1-8 contain the least fluorescent to most fluorescent cells, respectively. <br />\n",
    "The \"FSC-BSC\" sort included any events that fell within the FSC-BSC sort gate regardless of fluorescence. <br />\n",
    "There are two separate sort files corresponding to the two 6-well plates that were used during sorting."
   ]
  },
  {
   "cell_type": "code",
   "execution_count": 6,
   "metadata": {},
   "outputs": [],
   "source": [
    "# Import sort data and assign bin information to each event based on dictionary keys\n",
    "\n",
    "msort1_labels = {'A1':'Bin 2',\n",
    "                'A2':'Bin 3',\n",
    "                'A3':'Bin 4',\n",
    "                'B1':'Bin 5',\n",
    "                'B2':'Bin 6',\n",
    "                'B3':'Bin 7'}\n",
    "\n",
    "msort2_labels = {'A1':'FSC-BSC',\n",
    "                'A2':'Bin 1',\n",
    "                'A3':'Bin 8'}\n",
    "\n",
    "msort1 = pd.read_csv(facs_path+'Sort_Data/hAMP - 1_[Index 6 Well] Data Source - 1_Index.csv')\n",
    "msort1['Sort'] = 1\n",
    "msort1['Gate'] = msort1['Index'].apply(lambda x: msort1_labels[x])\n",
    "\n",
    "msort2 = pd.read_csv(facs_path+'Sort_Data/hAMP - 2_[Index 6 Well] Data Source - 1_Index_FSC-BSC.csv')\n",
    "msort2['Sort'] = 2\n",
    "msort2['Gate'] = msort2['Index'].apply(lambda x: msort2_labels[x])\n",
    "\n",
    "msort = msort1.append(msort2)"
   ]
  },
  {
   "cell_type": "markdown",
   "metadata": {},
   "source": [
    "## Import and calculate bin statistics"
   ]
  },
  {
   "cell_type": "markdown",
   "metadata": {},
   "source": [
    "The FACS returns statistics about every gate used to sort, including the percent of events in each fluorescence bin. <br />\n",
    "There are two separate sort statistics files corresponding to the two 6-well plates that were used during sorting."
   ]
  },
  {
   "cell_type": "code",
   "execution_count": 7,
   "metadata": {},
   "outputs": [],
   "source": [
    "# Import and process sort statistics\n",
    "m_stats1 = pd.read_csv(facs_path+'Sort_Stats/hAMP - 1.csv')\n",
    "m_stats2 = pd.read_csv(facs_path+'Sort_Stats/hAMP - 2.csv')\n",
    "\n",
    "def process_stats_table(m_stats):\n",
    "    # Change bin nomenclature from 'Bin1' -> 'Bin 1'\n",
    "    m_stats['Name'] = m_stats['Name'].mask(m_stats['Name'].str.contains('Bin'),\n",
    "                                          m_stats['Name'].apply(lambda x: ' '.join(regex.split('(\\d.*)',x))))\n",
    "    m_stats['Name'] = m_stats['Name'].str.strip()\n",
    "    m_stats.set_index('Name',inplace=True)\n",
    "    return m_stats\n",
    "\n",
    "for m_stats in [m_stats1, m_stats2]:\n",
    "    process_stats_table(m_stats)\n",
    "\n",
    "# Reformat information about which bins were collected in which sort\n",
    "stats_dict = {'mixed1':list(msort1_labels.values()),\n",
    "             'mixed2':list(msort2_labels.values())}\n",
    "\n",
    "# Append statistics for sort 1 and sort 2\n",
    "mixed_stats = pd.concat([m_stats1.loc[stats_dict['mixed1']],m_stats2.loc[stats_dict['mixed2']]]).sort_index(level=0,sort_remaining=False)"
   ]
  },
  {
   "cell_type": "code",
   "execution_count": 8,
   "metadata": {},
   "outputs": [],
   "source": [
    "# Calculate bin boundaries and bin widths based on sorted events\n",
    "bin_bounds_df = pd.DataFrame(columns=['Minimum','Maximum'])\n",
    "\n",
    "for bin_name in m_stats.index:\n",
    "    min_val = msort[msort['Gate']==bin_name]['EGFP-A-Compensated'].min()\n",
    "    max_val = msort[msort['Gate']==bin_name]['EGFP-A-Compensated'].max()\n",
    "    bin_bounds_df = bin_bounds_df.append(pd.DataFrame.from_dict(\n",
    "                                {bin_name:[min_val, max_val]}, orient='index',columns=['Minimum','Maximum']))\n",
    "\n",
    "mixed_stats = mixed_stats.join(bin_bounds_df)\n",
    "mixed_stats['BinWidth'] = mixed_stats['Maximum']-mixed_stats['Minimum']"
   ]
  },
  {
   "cell_type": "markdown",
   "metadata": {},
   "source": [
    "In addition to recording data for sorted events, in each sort, we recorded 100,000 non-fluorescence-gated events. These non-gated events enable us to calculate the percentage of events contained in each fluorescence bin during the sorts."
   ]
  },
  {
   "cell_type": "code",
   "execution_count": 9,
   "metadata": {},
   "outputs": [],
   "source": [
    "# Import event data for each sort\n",
    "hAMP1_data = pd.read_csv(facs_path+'Sort_Population_Data/user1_Experiment 12_6_2019 11204 PM_Sample Group - 1_hAMP - 1_[Index 6 Well] Data Source - 1.csv')\n",
    "hAMP2_data = pd.read_csv(facs_path+'Sort_Population_Data/user1_Experiment 12_6_2019 11204 PM_Sample Group - 1_hAMP - 2_[Index 6 Well] Data Source - 1.csv')\n",
    "\n",
    "# Combine the events from each sort\n",
    "hAMP_data = hAMP1_data.append(hAMP2_data)\n",
    "\n",
    "# Calculate the number of events that occurred in each bin\n",
    "num_events_dict = {}\n",
    "hAMP_data_fl = hAMP_data['EGFP-A-Compensated']\n",
    "for bin_num in np.arange(1,9):\n",
    "    bin_name = 'Bin '+str(bin_num)\n",
    "    num_events_dict[bin_name] = len(hAMP_data_fl[(hAMP_data_fl < mixed_stats.loc[bin_name,'Maximum'])&\n",
    "                                                 (hAMP_data_fl > mixed_stats.loc[bin_name,'Minimum'])])\n",
    "\n",
    "# Incorporate the percentage of events in each bin into mixed_stats\n",
    "num_events = pd.Series(num_events_dict)\n",
    "mixed_stats['FracTotalCalculated'] = num_events/len(hAMP_data_fl)\n",
    "\n",
    "# Save statistics information as a csv file\n",
    "mixed_stats.to_csv(analysis_path+'mixed_stats.csv')"
   ]
  },
  {
   "cell_type": "markdown",
   "metadata": {},
   "source": [
    "## Plots"
   ]
  },
  {
   "cell_type": "markdown",
   "metadata": {},
   "source": [
    "Superimpose each of the 8 fluorescence bins on the fluorescence distribution of the peptide library."
   ]
  },
  {
   "cell_type": "code",
   "execution_count": 10,
   "metadata": {},
   "outputs": [
    {
     "data": {
      "image/png": "[encoded data removed]",
      "text/plain": [
       "<Figure size 150x150 with 1 Axes>"
      ]
     },
     "metadata": {
      "needs_background": "light"
     },
     "output_type": "display_data"
    }
   ],
   "source": [
    "fig = plt.figure(figsize=(1., 1.), dpi=150)\n",
    "ax = plt.subplot()\n",
    "\n",
    "mixed_stats_bins = mixed_stats.drop('FSC-BSC',axis=0)\n",
    "upper = mixed_stats_bins['Maximum'].values\n",
    "lower = mixed_stats_bins['Minimum'].values\n",
    "\n",
    "ax_lims = [lower[0]/1.2, upper[-1]*1.2]\n",
    "bins = np.logspace(np.log10(ax_lims[0]), np.log10(ax_lims[1]), 300)\n",
    "\n",
    "plt.hist(hAMP_data['EGFP-A-Compensated'], bins=bins, color='k',\n",
    "         linewidth=1,histtype='step',density=False,linestyle='-')\n",
    "plt.ylabel('Count')\n",
    "plt.xlabel('Fluorescence (a.u.)')\n",
    "\n",
    "colors = ['#bdbdbd','#737373']*4\n",
    "for i in range(1,9):\n",
    "    plt.axvspan(mixed_stats.loc['Bin '+str(i),'Minimum'], mixed_stats.loc['Bin '+str(i),'Maximum'],\n",
    "               alpha=0.4, color=colors[i-1], linewidth=0,zorder=-1)\n",
    "    \n",
    "plt.xscale('log')\n",
    "plt.xlim(ax_lims)\n",
    "plt.ylim([0, 3200])\n",
    "plt.xticks([10**3,10**4,10**5])\n",
    "plt.yticks([0, 1000, 2000, 3000])\n",
    "\n",
    "ax.tick_params(axis='both',direction=\"in\", which='both')\n",
    "\n",
    "locmaj = mpl.ticker.LogLocator(base=10., numticks=7)\n",
    "locmin = mpl.ticker.LogLocator(base=10.0, subs=(0.1, 0.2, 0.3, 0.4, 0.5, 0.6, 0.7, 0.8, 0.9),\n",
    "                                          numticks=7)\n",
    "ax.xaxis.set_major_locator(locmaj)\n",
    "ax.xaxis.set_minor_locator(locmin)\n",
    "\n",
    "plt.savefig(figures_path+'hist_bins_counts.png', dpi=300, bbox_inches='tight')\n",
    "plt.savefig(figures_path+'hist_bins_counts.svg', dpi=300, bbox_inches='tight')"
   ]
  },
  {
   "cell_type": "markdown",
   "metadata": {},
   "source": [
    "Compare control fluorescence distributions to the peptide (hAMP) library distribution."
   ]
  },
  {
   "cell_type": "code",
   "execution_count": 11,
   "metadata": {},
   "outputs": [
    {
     "data": {
      "image/png": "[encoded data removed]",
      "text/plain": [
       "<Figure size 180x180 with 1 Axes>"
      ]
     },
     "metadata": {
      "needs_background": "light"
     },
     "output_type": "display_data"
    }
   ],
   "source": [
    "fig = plt.figure(figsize=(1.2,1.2),dpi=150)\n",
    "ax = plt.subplot()\n",
    "\n",
    "spacing = 1.2\n",
    "xlim = [mixed_stats.loc['Bin 1','Minimum']/spacing, mixed_stats.loc['Bin 8','Maximum']*spacing]\n",
    "bins = np.logspace(np.log10(xlim[0]), np.log10(xlim[1]),500)\n",
    "\n",
    "for plasmid, color, zorder, edgecolor in zip(['None','pKB225','pKB223'],\n",
    "                                             ['k','b','r'],\n",
    "                                             [-1,0,0],\n",
    "                                             ['grey','b','r']):\n",
    "    \n",
    "    # 5th column corresponds to Channel 5 on the FACS, FL2-A (mNeonGreen channel)\n",
    "    plt.hist(sample_data[samples[samples['Plasmid(s)']==plasmid]['ID'].values[0]][:,5],\n",
    "        bins=bins, facecolor=mpl.colors.to_rgba(color,alpha=0.3),edgecolor=edgecolor,\n",
    "        linewidth=0.5,histtype='stepfilled',density=False,linestyle='-',zorder=zorder)\n",
    "\n",
    "plt.ylabel('Count')\n",
    "plt.xlabel('Fluorescence (a.u.)')\n",
    "plt.xscale('log')\n",
    "plt.xlim(xlim)\n",
    "plt.xticks([10**3,10**4,10**5])\n",
    "\n",
    "locmaj = mpl.ticker.LogLocator(base=10., numticks=4)\n",
    "locmin = mpl.ticker.LogLocator(base=10.0, subs=(0.1, 0.2, 0.3, 0.4, 0.5, 0.6, 0.7, 0.8, 0.9),\n",
    "                                          numticks=4)\n",
    "ax.xaxis.set_major_locator(locmaj)\n",
    "ax.xaxis.set_minor_locator(locmin)\n",
    "\n",
    "# hAMP data plotted here is from 30,000 events collected on the same day in a separate file from\n",
    "# the events during sorting\n",
    "plt.hist(sample_data[samples[samples['Plasmid(s)']=='hAMP']['ID'].values[0]][:,5],\n",
    "        bins=bins, color='k',linewidth=0.75,histtype='step',density=False,linestyle='-')\n",
    "\n",
    "plt.legend(['Autofluorescence','No peptide (− control)','C18G (+ control)','hAMP library'],\n",
    "           loc='upper center', bbox_to_anchor=[0.5,-0.5],\n",
    "           handlelength=1, handleheight=1, fontsize=7, handletextpad=0.5)\n",
    "\n",
    "plt.savefig(figures_path+'hist_controls.png', dpi=300, bbox_inches='tight')\n",
    "plt.savefig(figures_path+'hist_controls.svg', dpi=300, bbox_inches='tight')"
   ]
  },
  {
   "cell_type": "markdown",
   "metadata": {},
   "source": [
    "## Calculate minimum expected fold change in fluorescence"
   ]
  },
  {
   "cell_type": "code",
   "execution_count": 12,
   "metadata": {},
   "outputs": [
    {
     "data": {
      "text/plain": [
       "0.7163834402336696"
      ]
     },
     "execution_count": 12,
     "metadata": {},
     "output_type": "execute_result"
    }
   ],
   "source": [
    "# Calculate fluorescence means of mNeonGreen-negative cell population (autofluorescence)\n",
    "# and of control with no displayed peptide\n",
    "autofluorescence = sample_data[samples[samples['Plasmid(s)']=='None']['ID'].values[0]][:,5]\n",
    "no_peptide = sample_data[samples[samples['Plasmid(s)']=='pKB225']['ID'].values[0]][:,5]\n",
    "\n",
    "# The value below represents the lowest expected fold change value that will be calculated using the NGS data\n",
    "# Any calculated fold changes that fall below this value are likely to be plasmids with mutations in mNeonGreen\n",
    "autofluorescence.mean()/no_peptide.mean()"
   ]
  },
  {
   "cell_type": "code",
   "execution_count": 13,
   "metadata": {},
   "outputs": [],
   "source": [
    "autofl_df = pd.DataFrame.from_dict({'Mean':autofluorescence.mean(),\n",
    "                                   'Fold Change':autofluorescence.mean()/no_peptide.mean()},\n",
    "                                  orient='index', columns=['Value'])"
   ]
  },
  {
   "cell_type": "code",
   "execution_count": 14,
   "metadata": {},
   "outputs": [],
   "source": [
    "autofl_df.to_csv(analysis_path+'autofluorescence.csv')"
   ]
  },
  {
   "cell_type": "code",
   "execution_count": null,
   "metadata": {},
   "outputs": [],
   "source": []
  }
 ],
 "metadata": {
  "kernelspec": {
   "display_name": "Python 3",
   "language": "python",
   "name": "python3"
  },
  "language_info": {
   "codemirror_mode": {
    "name": "ipython",
    "version": 3
   },
   "file_extension": ".py",
   "mimetype": "text/x-python",
   "name": "python",
   "nbconvert_exporter": "python",
   "pygments_lexer": "ipython3",
   "version": "3.7.4"
  }
 },
 "nbformat": 4,
 "nbformat_minor": 2
}

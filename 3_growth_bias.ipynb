{
 "cells": [
  {
   "cell_type": "markdown",
   "metadata": {},
   "source": [
    "## Import modules"
   ]
  },
  {
   "cell_type": "code",
   "execution_count": 1,
   "metadata": {},
   "outputs": [
    {
     "name": "stderr",
     "output_type": "stream",
     "text": [
      "C:\\ProgramData\\Anaconda3\\lib\\site-packages\\tqdm\\std.py:648: FutureWarning: The Panel class is removed from pandas. Accessing it from the top-level namespace will also be removed in the next version\n",
      "  from pandas import Panel\n",
      "C:\\ProgramData\\Anaconda3\\lib\\site-packages\\tqdm\\std.py:648: FutureWarning: The Panel class is removed from pandas. Accessing it from the top-level namespace will also be removed in the next version\n",
      "  from pandas import Panel\n"
     ]
    }
   ],
   "source": [
    "from common_dirs_fns import *\n",
    "from ngs_functions import *\n",
    "import pandas as pd\n",
    "import numpy as np\n",
    "import regex\n",
    "import matplotlib.pyplot as plt\n",
    "import matplotlib as mpl\n",
    "import subprocess\n",
    "from collections import Counter\n",
    "from Bio.Seq import Seq\n",
    "\n",
    "# For progress bars\n",
    "from tqdm.notebook import tqdm\n",
    "tqdm.pandas()"
   ]
  },
  {
   "cell_type": "code",
   "execution_count": 2,
   "metadata": {},
   "outputs": [],
   "source": [
    "# Specify matplotlib formatting\n",
    "%matplotlib inline\n",
    "mpl.rcParams['svg.fonttype'] ='none'\n",
    "mpl.rcParams['font.sans-serif'] = 'Arial'\n",
    "mpl.rcParams['axes.linewidth'] = 1.\n",
    "mpl.rcParams['mathtext.default'] = 'regular'\n",
    "plt.rcParams.update({'font.size': 7})"
   ]
  },
  {
   "cell_type": "markdown",
   "metadata": {},
   "source": [
    "## Use FLASH to combine forward and reverse reads"
   ]
  },
  {
   "cell_type": "code",
   "execution_count": 3,
   "metadata": {},
   "outputs": [],
   "source": [
    "# Directory to save FLASH output\n",
    "flash_out = ngs_path + 'flash_out_pre-sort'\n",
    "\n",
    "# Forward and reverse reads to combine with FLASH\n",
    "flash_in1 = ngs_path + 'pre-sort_library_R1.fastq'\n",
    "flash_in2 = ngs_path + 'pre-sort_library_R2.fastq'"
   ]
  },
  {
   "cell_type": "code",
   "execution_count": 4,
   "metadata": {
    "scrolled": true
   },
   "outputs": [
    {
     "name": "stdout",
     "output_type": "stream",
     "text": [
      "\"FLASH-1.2.11-windows-bin/flash\"  --max-overlap=150 --min-overlap=10 --output-directory=NGS/flash_out_pre-sort --max-mismatch-density=0.1 \"NGS/pre-sort_library_R1.fastq\" \"NGS/pre-sort_library_R2.fastq\"\n",
      ">>> [FLASH] Starting FLASH v1.2.11\n",
      ">>> [FLASH] Fast Length Adjustment of SHort reads\n",
      ">>> [FLASH]\n",
      ">>> [FLASH] Input files:\n",
      ">>> [FLASH]     NGS/pre-sort_library_R1.fastq\n",
      ">>> [FLASH]     NGS/pre-sort_library_R2.fastq\n",
      ">>> [FLASH]\n",
      ">>> [FLASH] Output files:\n",
      ">>> [FLASH]     NGS/flash_out_pre-sort/out.extendedFrags.fastq\n",
      ">>> [FLASH]     NGS/flash_out_pre-sort/out.notCombined_1.fastq\n",
      ">>> [FLASH]     NGS/flash_out_pre-sort/out.notCombined_2.fastq\n",
      ">>> [FLASH]     NGS/flash_out_pre-sort/out.hist\n",
      ">>> [FLASH]     NGS/flash_out_pre-sort/out.histogram\n",
      ">>> [FLASH]\n",
      ">>> [FLASH] Parameters:\n",
      ">>> [FLASH]     Min overlap:           10\n",
      ">>> [FLASH]     Max overlap:           150\n",
      ">>> [FLASH]     Max mismatch density:  0.100000\n",
      ">>> [FLASH]     Allow \"outie\" pairs:   false\n",
      ">>> [FLASH]     Cap mismatch quals:    false\n",
      ">>> [FLASH]     Combiner threads:      4\n",
      ">>> [FLASH]     Input format:          FASTQ, phred_offset=33\n",
      ">>> [FLASH]     Output format:         FASTQ, phred_offset=33\n",
      ">>> [FLASH]\n",
      ">>> [FLASH] Starting reader and writer threads\n",
      ">>> [FLASH] Starting 4 combiner threads\n",
      ">>> [FLASH] Processed 25000 read pairs\n",
      ">>> [FLASH] Processed 46534 read pairs\n",
      ">>> [FLASH]\n",
      ">>> [FLASH] Read combination statistics:\n",
      ">>> [FLASH]     Total pairs:      46534\n",
      ">>> [FLASH]     Combined pairs:   45236\n",
      ">>> [FLASH]     Uncombined pairs: 1298\n",
      ">>> [FLASH]     Percent combined: 97.21%\n",
      ">>> [FLASH]\n",
      ">>> [FLASH] Writing histogram files.\n",
      ">>> [FLASH]\n",
      ">>> [FLASH] FLASH v1.2.11 complete!\n",
      ">>> [FLASH] 3.010 seconds elapsed\n",
      "Writing sequences file\n",
      "0\n",
      "Counting sequences\n"
     ]
    }
   ],
   "source": [
    "# Generate a dataframe that counts all of the unique paired-end reads\n",
    "merged_reads_df = count_paired_end_reads(flash_in1, flash_in2, flash_out)"
   ]
  },
  {
   "cell_type": "markdown",
   "metadata": {},
   "source": [
    "## Manually specify sequence information for read processing"
   ]
  },
  {
   "cell_type": "code",
   "execution_count": 5,
   "metadata": {},
   "outputs": [],
   "source": [
    "# Forward and reverse primer binding sites\n",
    "fwd_primer = 'ttcggcatggggtcaggtg'.upper()\n",
    "rev_primer = 'agctgcgggtatcggagga'.upper()\n",
    "\n",
    "# Up to two errors are allowed in the primer binding site\n",
    "primer_mismatches = 2\n",
    "\n",
    "'''\n",
    "Searching for rev_primer_regex will return the sequence that occurs after the primer binding site\n",
    "See Python re documentation (https://docs.python.org/3/library/re.html) for reference to (?<=...) notation\n",
    "ACA = first three nucleotides after primer binding site in all library constructs\n",
    "'''\n",
    "rev_primer_regex = regex.compile('(?<=('+rev_primer+'){e<='+str(primer_mismatches)+'}ACA)')"
   ]
  },
  {
   "cell_type": "markdown",
   "metadata": {},
   "source": [
    "## Apply processing functions to merged_reads_df"
   ]
  },
  {
   "cell_type": "code",
   "execution_count": 6,
   "metadata": {},
   "outputs": [],
   "source": [
    "def process_data(seq):\n",
    "    # Reverse complement\n",
    "    rc = str(Seq(seq).reverse_complement())\n",
    "    \n",
    "    # Find DNA sequence that encodes peptide\n",
    "    after_rev_f = find_after_rev_primer(seq, rev_primer_regex)\n",
    "    after_rev_r = find_after_rev_primer(rc, rev_primer_regex)\n",
    "    after_rev = consensus_after_rev_primer(after_rev_f, after_rev_r)\n",
    "    \n",
    "    # Translate DNA sequence\n",
    "    raw_tln = raw_translation(after_rev)\n",
    "    tln = actual_translation(raw_tln)\n",
    "    \n",
    "    return [rc,\n",
    "            after_rev_f,after_rev_r,after_rev,\n",
    "            raw_tln, tln]"
   ]
  },
  {
   "cell_type": "code",
   "execution_count": 7,
   "metadata": {},
   "outputs": [
    {
     "data": {
      "application/vnd.jupyter.widget-view+json": {
       "model_id": "d9f27442d7004a70890dbd70db7d49fc",
       "version_major": 2,
       "version_minor": 0
      },
      "text/plain": [
       "HBox(children=(IntProgress(value=0, max=20131), HTML(value='')))"
      ]
     },
     "metadata": {},
     "output_type": "display_data"
    },
    {
     "name": "stderr",
     "output_type": "stream",
     "text": [
      "C:\\ProgramData\\Anaconda3\\lib\\site-packages\\Bio\\Seq.py:2715: BiopythonWarning: Partial codon, len(sequence) not a multiple of three. Explicitly trim the sequence or add trailing N before translation. This may become an error in future.\n",
      "  BiopythonWarning)\n"
     ]
    },
    {
     "name": "stdout",
     "output_type": "stream",
     "text": [
      "\n"
     ]
    }
   ],
   "source": [
    "new_cols = ['MergedRC',\n",
    "            'AfterRevPrimerF','AfterRevPrimerR','AfterRevPrimer',\n",
    "            'TlnRaw','Translation']\n",
    "\n",
    "merged_reads_df[new_cols] = pd.DataFrame([[None]*len(new_cols)], index=merged_reads_df.index)\n",
    "\n",
    "merged_reads_df.loc[:,new_cols] = merged_reads_df.loc[:].progress_apply(lambda x: process_data(x['Merged']),\n",
    "                                                                          axis=1, result_type='expand').values"
   ]
  },
  {
   "cell_type": "markdown",
   "metadata": {},
   "source": [
    "## Add pre-sort data as a new bin to post-sort dataframe"
   ]
  },
  {
   "cell_type": "code",
   "execution_count": 8,
   "metadata": {},
   "outputs": [],
   "source": [
    "merged_reads_df['Bin'] = 'Pre-sort'\n",
    "pre_post_df = pd.crosstab(merged_reads_df['Translation'],\n",
    "                       merged_reads_df['Bin'],\n",
    "                       values=merged_reads_df['Count'],\n",
    "                       aggfunc=sum)\n",
    "\n",
    "pre_post_df.columns = pd.MultiIndex.from_product([['Count'],pre_post_df.columns])\n",
    "pre_post_df[('Frequency', 'Pre-sort')] = pre_post_df[('Count', 'Pre-sort')].divide(\n",
    "                                                pre_post_df[('Count', 'Pre-sort')].sum())\n",
    "\n",
    "# Import tln_count_df, which was generated in NGS_data\n",
    "tln_count_df = pd.read_csv(analysis_path+'tln_count_df.csv',index_col=[0,1],header=[0,1],na_filter=False)\n",
    "tln_count_df.index = tln_count_df.index.levels[0]\n",
    "\n",
    "pre_post_df = pre_post_df.join(tln_count_df, how='outer')\n",
    "pre_post_df = pre_post_df.sort_index(axis=1)\n",
    "\n",
    "# Import human AMP peptide information scraped from APD3\n",
    "peptides_df = pd.read_excel(peptides_df_path,index_col=0)\n",
    "\n",
    "# Note which peptides were designed into the human AMP library\n",
    "pre_post_df['InLibrary'] = pre_post_df.index.isin(peptides_df['Sequence'])\n",
    "pre_post_df.loc[['', '*'], 'InLibrary'] = None"
   ]
  },
  {
   "cell_type": "markdown",
   "metadata": {},
   "source": [
    "## Plot peptide frequencies pre- and post-sort-seq workflow"
   ]
  },
  {
   "cell_type": "code",
   "execution_count": 9,
   "metadata": {},
   "outputs": [
    {
     "data": {
      "image/png": "[encoded data removed]",
      "text/plain": [
       "<Figure size 360x360 with 1 Axes>"
      ]
     },
     "metadata": {
      "needs_background": "light"
     },
     "output_type": "display_data"
    }
   ],
   "source": [
    "import matplotlib.patches as mpatches\n",
    "\n",
    "plt.figure(figsize=(1.8,1.8), dpi=200)\n",
    "ax = plt.subplot()\n",
    "\n",
    "# Plot human AMPs\n",
    "plt.plot(pre_post_df.loc[pre_post_df['InLibrary']==1, ('Frequency', 'Pre-sort')],\n",
    "         pre_post_df.loc[pre_post_df['InLibrary']==1, ('Frequency', 'FSC-BSC')],\n",
    "         linestyle='',marker='.',alpha=0.5,zorder=1,color='C1',markersize=6, markeredgewidth=0)\n",
    "\n",
    "# Plot human AMP derivatives\n",
    "plt.plot(pre_post_df.loc[pre_post_df['InLibrary']==0, ('Frequency', 'Pre-sort')],\n",
    "         pre_post_df.loc[pre_post_df['InLibrary']==0, ('Frequency', 'FSC-BSC')],\n",
    "         linestyle='',marker='.',alpha=0.2,zorder=0,color='#525252',markersize=6, markeredgewidth=0)\n",
    "\n",
    "# Plot no peptide control\n",
    "plt.plot(pre_post_df.loc[pre_post_df.index.isin(['*']), ('Frequency', 'Pre-sort')],\n",
    "         pre_post_df.loc[pre_post_df.index.isin(['*']), ('Frequency', 'FSC-BSC')],\n",
    "         linestyle='',marker='.',alpha=0.5,zorder=1,color='b',markersize=6, markeredgewidth=0)\n",
    "\n",
    "# Set axis limits and plot 1:1 line\n",
    "plt.xscale('log')\n",
    "plt.yscale('log')\n",
    "axlim = [10**-6,0.1]\n",
    "ax.set_xlim(axlim)\n",
    "ax.set_ylim(axlim)\n",
    "plt.plot(axlim,axlim,color='k',zorder=-0.5,linewidth=0.25)\n",
    "\n",
    "pre_sort_lowest_freq = 1/pre_post_df[('Count', 'Pre-sort')].sum()\n",
    "post_sort_lowest_freq = 1/pre_post_df[('Count', 'FSC-BSC')].sum()\n",
    "\n",
    "# Plot 1 read and 10 read spans\n",
    "plt.axvspan(axlim[0], pre_sort_lowest_freq, color='#f0f0f0', zorder=-1)\n",
    "plt.axhspan(axlim[0], post_sort_lowest_freq, color='#f0f0f0', zorder=-1)\n",
    "\n",
    "plt.axvspan(axlim[0], 10*pre_sort_lowest_freq,\n",
    "            color='#d9d9d9',alpha=0.25,linewidth=0,zorder=-1)\n",
    "\n",
    "ax.add_patch(mpatches.Polygon(np.array([[10*pre_sort_lowest_freq, axlim[0]],\n",
    "                                        [axlim[1], axlim[0]],\n",
    "                                        [axlim[1], 10*post_sort_lowest_freq],\n",
    "                                        [10*pre_sort_lowest_freq, 10*post_sort_lowest_freq]]),\n",
    "                              color='#d9d9d9',alpha=0.25,linewidth=0,zorder=-1))\n",
    "\n",
    "# Set tick parameters\n",
    "plt.xticks(10**np.linspace(-6, -1, 6))\n",
    "ax.xaxis.set_minor_locator(mpl.ticker.LogLocator(base = 10.0,\n",
    "                                                 subs = np.arange(1.0, 10.0) * 0.1,\n",
    "                                                 numticks = 10))\n",
    "\n",
    "plt.tick_params(which='both', axis='both', direction='in')\n",
    "\n",
    "# Label 1 read and 10 read spans\n",
    "plt.text(0.08, post_sort_lowest_freq*0.95, '1 read',\n",
    "         verticalalignment='top', horizontalalignment='right')\n",
    "\n",
    "plt.text(0.08, 10*post_sort_lowest_freq*0.95, '10 reads',\n",
    "         verticalalignment='top', horizontalalignment='right')\n",
    "\n",
    "\n",
    "# Create a legend\n",
    "leg = plt.legend(labels=['Human AMP', 'Human AMP derivative', 'No peptide (− control)'],\n",
    "           loc='center left', bbox_to_anchor=[1.05, 0.5])\n",
    "\n",
    "for lh in leg.legendHandles: \n",
    "    lh._legmarker.set_alpha(1)\n",
    "\n",
    "\n",
    "plt.xlabel('Pre-sort frequency')\n",
    "plt.ylabel('Post-sort frequency')\n",
    "plt.savefig(figures_path+'pre_post_sort_freq.svg', bbox_inches='tight')"
   ]
  },
  {
   "cell_type": "markdown",
   "metadata": {},
   "source": [
    "## Save processed pre-sort data to a CSV file"
   ]
  },
  {
   "cell_type": "code",
   "execution_count": 10,
   "metadata": {},
   "outputs": [],
   "source": [
    "pre_post_df.swaplevel(axis=1)['Pre-sort'].dropna().to_csv(analysis_path+'pre-sort_processed.csv')"
   ]
  },
  {
   "cell_type": "code",
   "execution_count": 11,
   "metadata": {},
   "outputs": [],
   "source": [
    "post_sort_processed = pre_post_df.swaplevel(axis=1)['FSC-BSC'].dropna()\n",
    "post_sort_processed = post_sort_processed[post_sort_processed['Count']!=0]\n",
    "\n",
    "post_sort_processed.to_csv(analysis_path+'post-sort_processed.csv')"
   ]
  },
  {
   "cell_type": "code",
   "execution_count": null,
   "metadata": {},
   "outputs": [],
   "source": []
  }
 ],
 "metadata": {
  "kernelspec": {
   "display_name": "Python 3",
   "language": "python",
   "name": "python3"
  },
  "language_info": {
   "codemirror_mode": {
    "name": "ipython",
    "version": 3
   },
   "file_extension": ".py",
   "mimetype": "text/x-python",
   "name": "python",
   "nbconvert_exporter": "python",
   "pygments_lexer": "ipython3",
   "version": "3.7.4"
  }
 },
 "nbformat": 4,
 "nbformat_minor": 2
}

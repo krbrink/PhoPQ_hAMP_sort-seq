{
 "cells": [
  {
   "cell_type": "markdown",
   "metadata": {},
   "source": [
    "## Import modules"
   ]
  },
  {
   "cell_type": "code",
   "execution_count": 1,
   "metadata": {},
   "outputs": [
    {
     "name": "stderr",
     "output_type": "stream",
     "text": [
      "C:\\ProgramData\\Anaconda3\\lib\\site-packages\\tqdm\\std.py:648: FutureWarning: The Panel class is removed from pandas. Accessing it from the top-level namespace will also be removed in the next version\n",
      "  from pandas import Panel\n"
     ]
    }
   ],
   "source": [
    "from common_dirs_fns import *\n",
    "from propy_functions import *\n",
    "import pandas as pd\n",
    "import numpy as np\n",
    "from scipy import stats\n",
    "import matplotlib.pyplot as plt\n",
    "import matplotlib as mpl"
   ]
  },
  {
   "cell_type": "code",
   "execution_count": 2,
   "metadata": {},
   "outputs": [],
   "source": [
    "# Specify matplotlib formatting\n",
    "%matplotlib inline\n",
    "mpl.rcParams['svg.fonttype']='none'\n",
    "mpl.rcParams['font.sans-serif'] = 'Arial'\n",
    "mpl.rcParams['axes.linewidth'] = 1.\n",
    "mpl.rcParams['mathtext.default'] = 'regular'\n",
    "plt.rcParams.update({'font.size': 10})"
   ]
  },
  {
   "cell_type": "markdown",
   "metadata": {},
   "source": [
    "## Import sort-seq information and save peptides that passed quality control to a FASTA file"
   ]
  },
  {
   "cell_type": "code",
   "execution_count": 3,
   "metadata": {},
   "outputs": [],
   "source": [
    "# Import stats_table\n",
    "stats_table = pd.read_csv(analysis_path+'stats_table_clean.csv', index_col=0, header=0, na_filter=False)\n",
    "\n",
    "# Save peptides to fasta file\n",
    "to_fasta(stats_table[stats_table.index!='*'].reset_index(),\n",
    "         'Translation',\n",
    "         'Translation',\n",
    "         analysis_path+'stats_table.fasta')"
   ]
  },
  {
   "cell_type": "markdown",
   "metadata": {},
   "source": [
    "## Create output files containing propy-generated features for each peptide\n",
    "Peptides that are 10 amino acids in length or shorter are excluded to enable calculation of PAAC/APAAC with lambda=10 (propy default). This criterion excludes 3 human AMP library peptides from downstream analysis."
   ]
  },
  {
   "cell_type": "code",
   "execution_count": 4,
   "metadata": {},
   "outputs": [
    {
     "data": {
      "application/vnd.jupyter.widget-view+json": {
       "model_id": "29f528bae4f647dfa314cacf7219e2e1",
       "version_major": 2,
       "version_minor": 0
      },
      "text/plain": [
       "HBox(children=(IntProgress(value=0, max=3797), HTML(value='')))"
      ]
     },
     "metadata": {},
     "output_type": "display_data"
    },
    {
     "name": "stdout",
     "output_type": "stream",
     "text": [
      "\n"
     ]
    }
   ],
   "source": [
    "# This code block takes about 2 hours to run for ~ 3800 peptides\n",
    "input_fasta = analysis_path+'stats_table.fasta'\n",
    "\n",
    "# Generate text files for each sequence in the input fasta file,\n",
    "# which contains all peptide sequences in stats_table\n",
    "propy_output_from_fasta(input_fasta, propy_path, overwrite=False)"
   ]
  },
  {
   "cell_type": "code",
   "execution_count": 5,
   "metadata": {},
   "outputs": [],
   "source": [
    "# Extract names of all peptides for which descriptors have been calculated\n",
    "all_propy_peptides = pd.Index(os.listdir(propy_path)).map(lambda x: x.split('.txt')[0])\n",
    "\n",
    "# Only include peptides that are also in stats_table.index\n",
    "peptide_names = all_propy_peptides.intersection(stats_table.index)"
   ]
  },
  {
   "cell_type": "code",
   "execution_count": 6,
   "metadata": {},
   "outputs": [
    {
     "data": {
      "application/vnd.jupyter.widget-view+json": {
       "model_id": "8c4facf4141e408ba97059634eb88978",
       "version_major": 2,
       "version_minor": 0
      },
      "text/plain": [
       "HBox(children=(IntProgress(value=0, max=3495), HTML(value='')))"
      ]
     },
     "metadata": {},
     "output_type": "display_data"
    },
    {
     "name": "stdout",
     "output_type": "stream",
     "text": [
      "\n"
     ]
    }
   ],
   "source": [
    "# This takes a few minutes to run\n",
    "# Save propy results to a new dataframe\n",
    "peptide_features = generate_features_dataframe(peptide_names, propy_path)"
   ]
  },
  {
   "cell_type": "code",
   "execution_count": 7,
   "metadata": {},
   "outputs": [],
   "source": [
    "# Add calculated fold change information to peptide_features dataframe\n",
    "peptide_features['FoldChange'] = stats_table.reindex(peptide_features.index)['Fold Change_Simple']\n",
    "\n",
    "# Remove columns that contain NaN values, which indicate that\n",
    "# that feature was not able to be calculated for all peptides\n",
    "# (This eliminates correlation features with large lag parameters)\n",
    "peptide_features = peptide_features.dropna(axis=1)"
   ]
  },
  {
   "cell_type": "code",
   "execution_count": 8,
   "metadata": {},
   "outputs": [],
   "source": [
    "# Save results to tab-separated value file\n",
    "# Several peptide features have commas which makes them incompatible with csv file type\n",
    "peptide_features.to_csv(analysis_path + 'peptide_features.tsv', sep='\\t')"
   ]
  },
  {
   "cell_type": "code",
   "execution_count": null,
   "metadata": {},
   "outputs": [],
   "source": []
  }
 ],
 "metadata": {
  "kernelspec": {
   "display_name": "Python 3",
   "language": "python",
   "name": "python3"
  },
  "language_info": {
   "codemirror_mode": {
    "name": "ipython",
    "version": 3
   },
   "file_extension": ".py",
   "mimetype": "text/x-python",
   "name": "python",
   "nbconvert_exporter": "python",
   "pygments_lexer": "ipython3",
   "version": "3.7.4"
  }
 },
 "nbformat": 4,
 "nbformat_minor": 2
}
